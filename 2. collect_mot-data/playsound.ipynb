{
 "cells": [
  {
   "cell_type": "code",
   "execution_count": 1,
   "metadata": {},
   "outputs": [],
   "source": [
    "import winsound\n",
    "from playsound import playsound\n",
    "\n",
    "playsound(\"start.mp3\" )\n",
    "#winsound.PlaySound(\"hello.wav\" )\n",
    "#winsound.PlaySound('SystemAsterisk', winsound.SND_ALIAS)\n",
    "#winsound.PlaySound('SystemHand', winsound.SND_ALIAS)"
   ]
  }
 ],
 "metadata": {
  "kernelspec": {
   "display_name": "Python 3",
   "language": "python",
   "name": "python3"
  },
  "language_info": {
   "codemirror_mode": {
    "name": "ipython",
    "version": 3
   },
   "file_extension": ".py",
   "mimetype": "text/x-python",
   "name": "python",
   "nbconvert_exporter": "python",
   "pygments_lexer": "ipython3",
   "version": "3.8.3"
  }
 },
 "nbformat": 4,
 "nbformat_minor": 4
}
