{
 "cells": [
  {
   "cell_type": "markdown",
   "metadata": {},
   "source": [
    "**\"\" Program Name : com_std & ini_th(no_motion)**  \n",
    "**\"\" Programmer : Joo Icksoo**  \n",
    "**\"\" Virsion No. : 21.04.06**  \n",
    "**\"\" Revision Date : 21.04.06**  \n",
    "**\"\" Function :**\n",
    "\n",
    "    본 프로그램은 센서 A,B로부터 5초동안의 데이터를 입력받아, 표준편차와 초기 문턱치를 계산합니다.  \n",
    "    Data 폴더의 Non-Motion Data폴더에서 비동작 데이터를 입력받아 표준편차를 계산합니다. \n",
    "    계산한 표준편차에 초기 문턱치 계수를 곱하여 초기 문턱치값을 출력합니다.  \n",
    "    실험자는 6명으로 실험자 이름은 이니셜로 입력합니다.\n",
    "    [JSI, KB, CJW, KME, KJY, PJS] 왼쪽의 6개의 이니셜이 실험자의 이니셜입니다.\n",
    "    출력은 입력의 표준편차와 초기 문턱치값을 출력한다."
   ]
  },
  {
   "cell_type": "code",
   "execution_count": 1,
   "metadata": {},
   "outputs": [],
   "source": [
    "import numpy as np\n",
    "import pandas as pd\n",
    "from pandas import DataFrame as df\n",
    "import random"
   ]
  },
  {
   "cell_type": "code",
   "execution_count": 4,
   "metadata": {},
   "outputs": [],
   "source": [
    "def Std_calculate(human):\n",
    "    path = '../../../Data/Non-Motion Data/' + human\n",
    "    A = pd.read_csv(path + '/data_A.csv').values\n",
    "    B = pd.read_csv(path + '/data_B.csv').values\n",
    "    std_mean = (np.std(A) + np.std(A))/2\n",
    "    return std_mean"
   ]
  },
  {
   "cell_type": "code",
   "execution_count": 6,
   "metadata": {},
   "outputs": [
    {
     "name": "stdout",
     "output_type": "stream",
     "text": [
      "이 코드는 신호의 표준편차값을 계산하고 초기 문턱치의 배수를 곱하여 초기 문턱치를 계산하여 출력하는 코드이다.\n",
      "\n",
      "초기 문턱치 배수를 입력하시오 : 5\n",
      "표준편차를 계산하기 위한 실험 대상자를 선택해 주세요.\n",
      "\n",
      "1번 JSI\t\n",
      "2번 KB\t\n",
      "3번 CJW\t\n",
      "4번 KME\t\n",
      "5번 KJY\t\n",
      "6번 PJS\t\n",
      "실험 대상자를 전부 선택한다면 1을, 아니라면 0을 입력해주세요. >> 1\n",
      "평균 표준편차는 : 0.0054\n",
      "초기 문턱치는 : 0.027\n"
     ]
    }
   ],
   "source": [
    "print('이 코드는 신호의 표준편차값을 계산하고 초기 문턱치의 배수를 곱하여 초기 문턱치를 계산하여 출력하는 코드이다.\\n')\n",
    "instans = float(input(\"초기 문턱치 배수를 입력하시오 : \"))\n",
    "human_list = ['JSI', 'KB', 'CJW', 'KME', 'KJY', 'PJS']\n",
    "print('표준편차를 계산하기 위한 실험 대상자를 선택해 주세요.')\n",
    "for num in range(len(human_list)):\n",
    "    print()\n",
    "    print(\"{}번 {}\".format(num+1,human_list[num]), end = '\\t')\n",
    "print()\n",
    "all_flag = int(input(\"실험 대상자를 전부 선택한다면 1을, 아니라면 0을 입력해주세요. >> \"))\n",
    "std_mean = []\n",
    "if all_flag == 1:\n",
    "    while len(human_list) != 0:\n",
    "        human = human_list[0]\n",
    "        std_mean.append(Std_calculate(human))\n",
    "        del human_list[0]\n",
    "else :\n",
    "    while True:\n",
    "        for num in range(len(human_list)):\n",
    "            print()\n",
    "            print(\"{}번 {}\".format(num+1,human_list[num]), end = '\\t')\n",
    "        select = int(input(\"대상자의 번호를 입력하세요.\\n실험을 종료하려면 0을 입력하세요 >> \"))\n",
    "        if select == 0:\n",
    "            break\n",
    "        human = human_list[select-1]\n",
    "        std_mean.append(Std_calculate(human))\n",
    "        print(\"표준편차는 : {}\".format(std_mean[-1]))\n",
    "        del human_list[select-1]\n",
    "        print()\n",
    "initial_threshold = (sum(std_mean)/len(std_mean)) * instans\n",
    "print(\"평균 표준편차는 : {}\".format(round(sum(std_mean)/len(std_mean),4)))\n",
    "print(\"초기 문턱치는 : {}\".format(round(initial_threshold,4)))"
   ]
  },
  {
   "cell_type": "code",
   "execution_count": 2,
   "metadata": {},
   "outputs": [
    {
     "name": "stdout",
     "output_type": "stream",
     "text": [
      "실험자의 숫자를 입력하세요 : 3\n",
      "실험자의 이름을 입력하시겠습니까? 무작위로 하시겠습니까? 입력하시는 경우는 Y를 입력하세요(Y/N) >> N\n",
      "초기 문턱치 배수를 입력하시오 : 5.5\n",
      "표준편차는 : 0.0054\n",
      "초기 문턱치는 : 0.0298\n"
     ]
    }
   ],
   "source": [
    "# 신호의 표준편차값을 계산하고 초기 문턱치의 배수를 곱하여 초기 문턱치를 계산하여 출력하는 코드이다.\n",
    "print('표준편차를 계산하기 위한 신호 대상자를 선택해 주세요.')\n",
    "human_number = int(input(\"실험자의 숫자를 입력하세요 : \"))\n",
    "human_list = ['JSI', 'KB', 'CJW', 'KME', 'KJY', 'PJS']\n",
    "std_mean = 0\n",
    "\n",
    "name_flag = input('실험자의 이름을 입력하시겠습니까? 무작위로 하시겠습니까? 입력하시는 경우는 Y를 입력하세요(Y/N) >> ')\n",
    "if name_flag !='Y' and name_flag != 'N':\n",
    "    while True:\n",
    "        name_flag = input('다시 입력해 주세요(Y/N) >> ')\n",
    "        if name_flag =='Y' or name_flag == 'N':\n",
    "            break\n",
    "\n",
    "if name_flag == 'Y':\n",
    "    \n",
    "    for i in range(human_number):\n",
    "        human_name = input(\"실험자{}의 이름을 입력하세요 : \".format(i+1))\n",
    "        A = pd.read_csv('../../../Data/Non-Motion Data/' + human_name + '/data_A.csv').values\n",
    "        B = pd.read_csv('../../../Data/Non-Motion Data/' + human_name + '/data_B.csv').values\n",
    "        std_A = np.std(A)\n",
    "        std_B = np.std(B)\n",
    "        globals()['Human_A_std_{}'.format(i)] = std_A\n",
    "        globals()['Human_B_std_{}'.format(i)] = std_B\n",
    "        std_mean += std_A\n",
    "        std_mean += std_B\n",
    "    std_mean /= (human_number*2)\n",
    "    \n",
    "elif name_flag == 'N':\n",
    "    random.shuffle(human_list)\n",
    "    random_list = human_list\n",
    "    for human_name in random_list[:human_number]:\n",
    "        A = pd.read_csv('../../../Data/Non-Motion Data/' + human_name + '/data_A.csv').values\n",
    "        B = pd.read_csv('../../../Data/Non-Motion Data/' + human_name + '/data_B.csv').values\n",
    "        std_A = np.std(A)\n",
    "        std_B = np.std(B)\n",
    "        globals()['Human_A_std_{}'.format(human_name)] = std_A\n",
    "        globals()['Human_B_std_{}'.format(human_name)] = std_B\n",
    "        std_mean += std_A\n",
    "        std_mean += std_B\n",
    "    std_mean /= (human_number*2)\n",
    "\n",
    "instans = float(input(\"초기 문턱치 배수를 입력하시오 : \"))\n",
    "\n",
    "Initial_threshold = instans * std_mean\n",
    "print(\"표준편차는 : \" + str(round(std_mean,4)))\n",
    "print(\"초기 문턱치는 : \" + str(round(Initial_threshold,4)))"
   ]
  }
 ],
 "metadata": {
  "kernelspec": {
   "display_name": "Python 3",
   "language": "python",
   "name": "python3"
  },
  "language_info": {
   "codemirror_mode": {
    "name": "ipython",
    "version": 3
   },
   "file_extension": ".py",
   "mimetype": "text/x-python",
   "name": "python",
   "nbconvert_exporter": "python",
   "pygments_lexer": "ipython3",
   "version": "3.8.3"
  }
 },
 "nbformat": 4,
 "nbformat_minor": 4
}
